{
  "nbformat": 4,
  "nbformat_minor": 0,
  "metadata": {
    "colab": {
      "provenance": []
    },
    "kernelspec": {
      "name": "python3",
      "display_name": "Python 3"
    },
    "language_info": {
      "name": "python"
    }
  },
  "cells": [
    {
      "cell_type": "markdown",
      "source": [
        "# Experiment 1\n",
        "## Implementation of a single artificial neuron.\n",
        "#### Write a program to simulate a single artificial neuron performing binary classification.\n"
      ],
      "metadata": {
        "id": "sr30yWlIc5IU"
      }
    },
    {
      "cell_type": "code",
      "execution_count": 18,
      "metadata": {
        "colab": {
          "base_uri": "https://localhost:8080/"
        },
        "id": "y4n4NqxvZuYX",
        "outputId": "04f696e4-cf47-4a1c-d09c-faf4f6ab111a"
      },
      "outputs": [
        {
          "output_type": "stream",
          "name": "stdout",
          "text": [
            "Predictions: [0, 1, 1, 1]\n",
            "Actual: [0 1 1 1]\n"
          ]
        }
      ],
      "source": [
        "import numpy as np\n",
        "\n",
        "class SingleNeuron:\n",
        "    def __init__(self, learning_rate=0.1, epochs=1000):\n",
        "        self.learning_rate = learning_rate\n",
        "        self.epochs = epochs\n",
        "        self.weight = None\n",
        "        self.bias = None\n",
        "\n",
        "    def _sigmoid(self, x):\n",
        "        return 1 / (1 + np.exp(-x))\n",
        "\n",
        "    def fit(self, X, y):\n",
        "        n_samples, n_features = X.shape\n",
        "        self.weight = np.zeros(n_features)\n",
        "        self.bias = 0\n",
        "\n",
        "        for _ in range(self.epochs):\n",
        "            for idx, x_i in enumerate(X):\n",
        "                # Compute linear output\n",
        "                linear_output = np.dot(x_i, self.weight) + self.bias\n",
        "                # Apply activation function\n",
        "                y_predicted = self._sigmoid(linear_output)\n",
        "                # Compute gradient and update weights and bias\n",
        "                error = y[idx] - y_predicted\n",
        "                self.weight += self.learning_rate * error * x_i\n",
        "                self.bias += self.learning_rate * error\n",
        "\n",
        "    def predict(self, X):\n",
        "        linear_output = np.dot(X, self.weight) + self.bias\n",
        "        y_predicted = self._sigmoid(linear_output)\n",
        "        return [1 if i >= 0.5 else 0 for i in y_predicted]\n",
        "\n",
        "if __name__ == \"__main__\":\n",
        "    # Define a simple binary classification dataset (OR gate)\n",
        "    X = np.array([\n",
        "        [0, 0],\n",
        "        [0, 1],\n",
        "        [1, 0],\n",
        "        [1, 1]\n",
        "    ])\n",
        "    y = np.array([0, 1, 1, 1])  # OR gate output\n",
        "\n",
        "    # Initialize and train the single artificial neuron\n",
        "    neuron = SingleNeuron(learning_rate=0.1, epochs=1000)\n",
        "    neuron.fit(X, y)\n",
        "\n",
        "    # Test the neuron on the dataset\n",
        "    predictions = neuron.predict(X)\n",
        "\n",
        "    print(\"Predictions:\", predictions)\n",
        "    print(\"Actual:\", y)"
      ]
    },
    {
      "cell_type": "markdown",
      "source": [
        "# Experiment 2\n",
        "## Implementation of Single Layer Perceptron (SLP).\n",
        "#### Train and test SLP on a linearly separable dataset (e.g., AND/OR gate).\n"
      ],
      "metadata": {
        "id": "WggVIi0BdYXb"
      }
    },
    {
      "cell_type": "code",
      "source": [
        "#Implementation of a perceptron for AND gate\n",
        "\n",
        "import numpy as np\n",
        "\n",
        "# Perceptron class\n",
        "class Perceptron:\n",
        "    def __init__(self, learning_rate=0.01, epochs=1000):\n",
        "        self.learning_rate = learning_rate\n",
        "        self.epochs = epochs\n",
        "        self.weights = None\n",
        "        self.bias = None\n",
        "\n",
        "    def fit(self, X, y):\n",
        "        n_samples, n_features = X.shape\n",
        "        self.weights = np.zeros(n_features)\n",
        "        self.bias = 0\n",
        "\n",
        "        # Convert labels to 1 and -1\n",
        "        y = np.where(y <= 0, -1, 1)\n",
        "\n",
        "        for _ in range(self.epochs):\n",
        "            for idx, x_i in enumerate(X):\n",
        "                linear_output = np.dot(x_i, self.weights) + self.bias\n",
        "                y_predicted = np.sign(linear_output)\n",
        "\n",
        "                if y[idx] * y_predicted <= 0:\n",
        "                    self.weights += self.learning_rate * y[idx] * x_i\n",
        "                    self.bias += self.learning_rate * y[idx]\n",
        "\n",
        "    def predict(self, X):\n",
        "        linear_output = np.dot(X, self.weights) + self.bias\n",
        "        return np.sign(linear_output)\n",
        "\n",
        "if __name__ == \"__main__\":\n",
        "    X = np.array([\n",
        "        [0, 0],\n",
        "        [0, 1],\n",
        "        [1, 0],\n",
        "        [1, 1]\n",
        "    ])\n",
        "    y = np.array([0, 0, 0, 1])  # AND gate output\n",
        "\n",
        "    # Initialize and train perceptron\n",
        "    perceptron = Perceptron(learning_rate=0.1, epochs=10)\n",
        "    perceptron.fit(X, y)\n",
        "\n",
        "    # Test perceptron\n",
        "    predictions = perceptron.predict(X)\n",
        "    print(\"Predictions:\", predictions)"
      ],
      "metadata": {
        "colab": {
          "base_uri": "https://localhost:8080/"
        },
        "id": "Q0eToXlDZ0QO",
        "outputId": "4a598e84-91b3-4efe-c45a-ea5f25d3dc1f"
      },
      "execution_count": 7,
      "outputs": [
        {
          "output_type": "stream",
          "name": "stdout",
          "text": [
            "Predictions: [-1. -1. -1.  1.]\n"
          ]
        }
      ]
    },
    {
      "cell_type": "markdown",
      "source": [
        "# Experiment 3\n",
        "## Multi-Layer Perceptron (MLP) for XOR Gate.\n",
        "#### Design and train MLP to solve the XOR problem.\n"
      ],
      "metadata": {
        "id": "33CV3QSPdIhs"
      }
    },
    {
      "cell_type": "code",
      "source": [
        "import numpy as np\n",
        "\n",
        "# Define the XOR dataset\n",
        "X = np.array([[0, 0], [0, 1], [1, 0], [1, 1]])\n",
        "y = np.array([0, 1, 1, 0])\n",
        "\n",
        "# Define activation functions\n",
        "def sigmoid(z):\n",
        "    return 1 / (1 + np.exp(-z))\n",
        "\n",
        "def sigmoid_derivative(z):\n",
        "    return z * (1 - z)\n",
        "\n",
        "# Define the MLP class\n",
        "class MLP:\n",
        "    def __init__(self, input_size, hidden_size, output_size):\n",
        "        # Initialize weights and biases\n",
        "        self.weights_input_hidden = np.random.randn(input_size, hidden_size)\n",
        "        self.bias_hidden = np.random.randn(hidden_size)\n",
        "        self.weights_hidden_output = np.random.randn(hidden_size, output_size)\n",
        "        self.bias_output = np.random.randn(output_size)\n",
        "\n",
        "    def forward(self, inputs):\n",
        "        # Hidden layer\n",
        "        self.hidden_input = np.dot(inputs, self.weights_input_hidden) + self.bias_hidden\n",
        "        self.hidden_output = sigmoid(self.hidden_input)\n",
        "\n",
        "        # Output layer\n",
        "        self.output_input = np.dot(self.hidden_output, self.weights_hidden_output) + self.bias_output\n",
        "        self.output = sigmoid(self.output_input)\n",
        "        return self.output\n",
        "\n",
        "    def backward(self, inputs, targets, learning_rate):\n",
        "        # Calculate error\n",
        "        output_error = targets - self.output\n",
        "        output_delta = output_error * sigmoid_derivative(self.output)\n",
        "\n",
        "        hidden_error = np.dot(output_delta, self.weights_hidden_output.T)\n",
        "        hidden_delta = hidden_error * sigmoid_derivative(self.hidden_output)\n",
        "\n",
        "        # Update weights and biases\n",
        "        self.weights_hidden_output += np.outer(self.hidden_output, output_delta) * learning_rate\n",
        "        self.bias_output += output_delta * learning_rate\n",
        "        self.weights_input_hidden += np.outer(inputs, hidden_delta) * learning_rate\n",
        "        self.bias_hidden += hidden_delta * learning_rate\n",
        "\n",
        "    def train(self, X, y, epochs, learning_rate):\n",
        "        for epoch in range(epochs):\n",
        "            for i in range(X.shape[0]):\n",
        "                self.forward(X[i])\n",
        "                self.backward(X[i], y[i], learning_rate)\n",
        "\n",
        "    def predict(self, X):\n",
        "        predictions = []\n",
        "        for i in range(X.shape[0]):\n",
        "            output = self.forward(X[i])\n",
        "            predictions.append(1 if output >= 0.5 else 0)\n",
        "        return predictions\n",
        "\n",
        "if __name__ == \"__main__\":\n",
        "    # Initialize and train the MLP\n",
        "    input_size = 2\n",
        "    hidden_size = 2\n",
        "    output_size = 1\n",
        "    mlp = MLP(input_size, hidden_size, output_size)\n",
        "\n",
        "    # Train the MLP\n",
        "    mlp.train(X, y, epochs=10000, learning_rate=0.1)\n",
        "\n",
        "    # Test the MLP\n",
        "    predictions = mlp.predict(X)\n",
        "    print(\"Predictions:\", predictions)"
      ],
      "metadata": {
        "colab": {
          "base_uri": "https://localhost:8080/"
        },
        "id": "dzqTaQGFddWX",
        "outputId": "f9515578-2485-4fba-d50a-79312dd90a8a"
      },
      "execution_count": 10,
      "outputs": [
        {
          "output_type": "stream",
          "name": "stdout",
          "text": [
            "Predictions: [0, 1, 1, 0]\n"
          ]
        }
      ]
    },
    {
      "cell_type": "markdown",
      "source": [
        "# Experiment 4\n",
        "## Activation Functions.\n",
        "#### Implement Sigmoid, ReLU, and Tanh activation functions.\n"
      ],
      "metadata": {
        "id": "cP_80byXek9y"
      }
    },
    {
      "cell_type": "code",
      "source": [
        "import numpy as np\n",
        "from sklearn.datasets import load_breast_cancer\n",
        "from sklearn.model_selection import train_test_split\n",
        "from sklearn.preprocessing import StandardScaler\n",
        "\n",
        "class Perceptron:\n",
        "    def __init__(self, learning_rate=0.01, epochs=1000, activation=\"step\"):\n",
        "        self.learning_rate = learning_rate\n",
        "        self.epochs = epochs\n",
        "        self.weights = None\n",
        "        self.bias = None\n",
        "        self.activation = activation\n",
        "\n",
        "    def _activation_function(self, x):\n",
        "        if self.activation == \"step\":\n",
        "            return np.sign(x)\n",
        "        elif self.activation == \"sigmoid\":\n",
        "            return 1 / (1 + np.exp(-x))\n",
        "        elif self.activation == \"relu\":\n",
        "            return np.maximum(0, x)\n",
        "        elif self.activation == \"tanh\":\n",
        "            return np.tanh(x)\n",
        "        else:\n",
        "            raise ValueError(\"Unsupported activation function\")\n",
        "\n",
        "    def fit(self, X, y):\n",
        "        n_samples, n_features = X.shape\n",
        "        self.weights = np.zeros(n_features)\n",
        "        self.bias = 0\n",
        "        y = np.where(y <= 0, -1, 1)  # Convert targets to -1 and 1\n",
        "\n",
        "        for _ in range(self.epochs):\n",
        "            for idx, x_i in enumerate(X):\n",
        "                linear_output = np.dot(x_i, self.weights) + self.bias\n",
        "                y_predicted = self._activation_function(linear_output)\n",
        "                if y[idx] * np.sign(y_predicted) <= 0:  # Only adjust for misclassifications\n",
        "                    self.weights += self.learning_rate * y[idx] * x_i\n",
        "                    self.bias += self.learning_rate * y[idx]\n",
        "\n",
        "    def predict(self, X):\n",
        "        linear_output = np.dot(X, self.weights) + self.bias\n",
        "        y_predicted = self._activation_function(linear_output)\n",
        "        if self.activation == \"step\":\n",
        "            return np.sign(y_predicted)\n",
        "        elif self.activation in [\"sigmoid\", \"tanh\"]:\n",
        "            return np.where(y_predicted >= 0, 1, -1)  # Binary decision for sigmoid/tanh\n",
        "        else:\n",
        "            return np.where(y_predicted > 0, 1, 0)  # For ReLU\n",
        "\n",
        "\n",
        "if __name__ == \"__main__\":\n",
        "    data = load_breast_cancer()\n",
        "    X = data.data\n",
        "    y = data.target\n",
        "    X_train, X_test, y_train, y_test = train_test_split(X, y, test_size=0.2, random_state=42)\n",
        "    scaler = StandardScaler()\n",
        "    X_train = scaler.fit_transform(X_train)\n",
        "    X_test = scaler.transform(X_test)\n",
        "\n",
        "    # Step activation\n",
        "    perceptron_step = Perceptron(learning_rate=0.01, epochs=1000, activation=\"step\")\n",
        "    perceptron_step.fit(X_train, y_train)\n",
        "    predictions_step = perceptron_step.predict(X_test)\n",
        "    predictions_step = np.where(predictions_step <= 0, 0, 1)\n",
        "    accuracy_step = np.mean(predictions_step == y_test)\n",
        "    print(\"Step Activation Accuracy:\", accuracy_step)\n",
        "\n",
        "    # Sigmoid activation\n",
        "    perceptron_sigmoid = Perceptron(learning_rate=0.01, epochs=1000, activation=\"sigmoid\")\n",
        "    perceptron_sigmoid.fit(X_train, y_train)\n",
        "    predictions_sigmoid = perceptron_sigmoid.predict(X_test)\n",
        "    predictions_sigmoid = np.where(predictions_sigmoid <= 0, 0, 1)\n",
        "    accuracy_sigmoid = np.mean(predictions_sigmoid == y_test)\n",
        "    print(\"Sigmoid Activation Accuracy:\", accuracy_sigmoid)\n",
        "\n",
        "    # ReLU activation\n",
        "    perceptron_relu = Perceptron(learning_rate=0.01, epochs=1000, activation=\"relu\")\n",
        "    perceptron_relu.fit(X_train, y_train)\n",
        "    predictions_relu = perceptron_relu.predict(X_test)\n",
        "    predictions_relu = np.where(predictions_relu <= 0, 0, 1)\n",
        "    accuracy_relu = np.mean(predictions_relu == y_test)\n",
        "    print(\"ReLU Activation Accuracy:\", accuracy_relu)\n",
        "\n",
        "    # Tanh activation\n",
        "    perceptron_tanh = Perceptron(learning_rate=0.01, epochs=1000, activation=\"tanh\")\n",
        "    perceptron_tanh.fit(X_train, y_train)\n",
        "    predictions_tanh = perceptron_tanh.predict(X_test)\n",
        "    predictions_tanh = np.where(predictions_tanh <= 0, 0, 1)\n",
        "    accuracy_tanh = np.mean(predictions_tanh == y_test)\n",
        "    print(\"Tanh Activation Accuracy:\", accuracy_tanh)"
      ],
      "metadata": {
        "colab": {
          "base_uri": "https://localhost:8080/"
        },
        "id": "KwJ5zhZlev-X",
        "outputId": "79b9c6c9-9736-4786-c9d9-5806523b6289"
      },
      "execution_count": 12,
      "outputs": [
        {
          "output_type": "stream",
          "name": "stdout",
          "text": [
            "Step Activation Accuracy: 0.9298245614035088\n"
          ]
        },
        {
          "output_type": "stream",
          "name": "stderr",
          "text": [
            "<ipython-input-12-b49af512d0f0>:18: RuntimeWarning: overflow encountered in exp\n",
            "  return 1 / (1 + np.exp(-x))\n"
          ]
        },
        {
          "output_type": "stream",
          "name": "stdout",
          "text": [
            "Sigmoid Activation Accuracy: 0.6228070175438597\n",
            "ReLU Activation Accuracy: 0.9736842105263158\n",
            "Tanh Activation Accuracy: 0.9298245614035088\n"
          ]
        }
      ]
    },
    {
      "cell_type": "code",
      "source": [
        "from sklearn.metrics import confusion_matrix, ConfusionMatrixDisplay\n",
        "import matplotlib.pyplot as plt\n",
        "\n",
        "# Function to visualize confusion matrices\n",
        "def plot_confusion_matrices(predictions, y_test):\n",
        "    plt.figure(figsize=(12, 10))\n",
        "    activations = list(predictions.keys())\n",
        "\n",
        "    for i, activation in enumerate(activations, 1):\n",
        "        cm = confusion_matrix(y_test, predictions[activation])\n",
        "        disp = ConfusionMatrixDisplay(confusion_matrix=cm, display_labels=[0, 1])\n",
        "        plt.subplot(2, 2, i)\n",
        "        disp.plot(cmap=\"Blues\", ax=plt.gca(), colorbar=False)\n",
        "        plt.title(f\"Confusion Matrix - {activation} Activation\")\n",
        "        plt.grid(False)\n",
        "\n",
        "    plt.tight_layout()\n",
        "    plt.show()\n",
        "\n",
        "# Call the function with predictions\n",
        "plot_confusion_matrices(predictions, y_test)\n"
      ],
      "metadata": {
        "colab": {
          "base_uri": "https://localhost:8080/",
          "height": 749
        },
        "id": "RMWrro4cfS19",
        "outputId": "2a72dcac-0a29-40b6-98f0-5e5cc14fe47d"
      },
      "execution_count": 15,
      "outputs": [
        {
          "output_type": "display_data",
          "data": {
            "text/plain": [
              "<Figure size 1200x1000 with 4 Axes>"
            ],
            "image/png": "[encoded data removed]"
          },
          "metadata": {}
        }
      ]
    },
    {
      "cell_type": "markdown",
      "source": [
        "# Experiment 5\n",
        "## Forward and Backpropagation.\n",
        "#### Implement forward propagation and backpropagation manually for a 2-layer neural network.\n"
      ],
      "metadata": {
        "id": "MMBEgC_IgK4T"
      }
    },
    {
      "cell_type": "code",
      "source": [
        "import numpy as np\n",
        "\n",
        "# Define activation functions\n",
        "def sigmoid(z):\n",
        "    return 1 / (1 + np.exp(-z))\n",
        "\n",
        "def sigmoid_derivative(z):\n",
        "    return z * (1 - z)\n",
        "\n",
        "# Define a simple 2-layer neural network\n",
        "class NeuralNetwork:\n",
        "    def __init__(self, input_size, hidden_size, output_size, learning_rate=0.1):\n",
        "        # Initialize weights and biases randomly\n",
        "        self.weights_input_hidden = np.random.randn(input_size, hidden_size)\n",
        "        self.bias_hidden = np.zeros((1, hidden_size))\n",
        "        self.weights_hidden_output = np.random.randn(hidden_size, output_size)\n",
        "        self.bias_output = np.zeros((1, output_size))\n",
        "        self.learning_rate = learning_rate\n",
        "\n",
        "    def forward_propagation(self, X):\n",
        "        # Input to hidden layer\n",
        "        self.hidden_input = np.dot(X, self.weights_input_hidden) + self.bias_hidden\n",
        "        self.hidden_output = sigmoid(self.hidden_input)\n",
        "\n",
        "        # Hidden to output layer\n",
        "        self.output_input = np.dot(self.hidden_output, self.weights_hidden_output) + self.bias_output\n",
        "        self.output = sigmoid(self.output_input)\n",
        "\n",
        "        return self.output\n",
        "\n",
        "    def backward_propagation(self, X, y):\n",
        "        # Error at output layer\n",
        "        output_error = self.output - y\n",
        "        output_delta = output_error * sigmoid_derivative(self.output)\n",
        "\n",
        "        # Error at hidden layer\n",
        "        hidden_error = np.dot(output_delta, self.weights_hidden_output.T)\n",
        "        hidden_delta = hidden_error * sigmoid_derivative(self.hidden_output)\n",
        "\n",
        "        # Update weights and biases\n",
        "        self.weights_hidden_output -= self.learning_rate * np.dot(self.hidden_output.T, output_delta)\n",
        "        self.bias_output -= self.learning_rate * np.sum(output_delta, axis=0, keepdims=True)\n",
        "        self.weights_input_hidden -= self.learning_rate * np.dot(X.T, hidden_delta)\n",
        "        self.bias_hidden -= self.learning_rate * np.sum(hidden_delta, axis=0, keepdims=True)\n",
        "\n",
        "    def train(self, X, y, epochs):\n",
        "        for epoch in range(epochs):\n",
        "            # Forward pass\n",
        "            self.forward_propagation(X)\n",
        "            # Backward pass\n",
        "            self.backward_propagation(X, y)\n",
        "\n",
        "    def predict(self, X):\n",
        "        predictions = self.forward_propagation(X)\n",
        "        return (predictions > 0.5).astype(int)\n",
        "\n",
        "# Example usage\n",
        "if __name__ == \"__main__\":\n",
        "    # XOR dataset\n",
        "    X = np.array([[0, 0], [0, 1], [1, 0], [1, 1]])\n",
        "    y = np.array([[0], [1], [1], [0]])\n",
        "\n",
        "    # Initialize and train the neural network\n",
        "    nn = NeuralNetwork(input_size=2, hidden_size=2, output_size=1, learning_rate=0.1)\n",
        "    nn.train(X, y, epochs=10000)\n",
        "\n",
        "    # Test the neural network\n",
        "    predictions = nn.predict(X)\n",
        "    print(\"Predictions:\\n\", predictions)\n"
      ],
      "metadata": {
        "colab": {
          "base_uri": "https://localhost:8080/"
        },
        "id": "c2aJvfH7fxB0",
        "outputId": "ae6f0474-c22f-400a-b422-de59408b1a23"
      },
      "execution_count": 16,
      "outputs": [
        {
          "output_type": "stream",
          "name": "stdout",
          "text": [
            "Predictions:\n",
            " [[0]\n",
            " [1]\n",
            " [1]\n",
            " [0]]\n"
          ]
        }
      ]
    },
    {
      "cell_type": "code",
      "source": [],
      "metadata": {
        "id": "EGnhwT6Xha5b"
      },
      "execution_count": null,
      "outputs": []
    }
  ]
}